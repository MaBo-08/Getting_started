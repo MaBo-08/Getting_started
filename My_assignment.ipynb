{
 "cells": [
  {
   "cell_type": "markdown",
   "id": "82c87234-15a9-497b-91f1-d01debba86b9",
   "metadata": {},
   "source": [
    "# <center>My Jupyter Notebook on IBM Watson Studio</center>"
   ]
  },
  {
   "cell_type": "markdown",
   "id": "f6062d99-1d5f-465f-91a3-c9b0ad1c62cc",
   "metadata": {},
   "source": [
    "**Marin** \n",
    "\n",
    "Electrical engineering"
   ]
  },
  {
   "cell_type": "markdown",
   "id": "689235c5-d4b4-4ee2-bbf0-e6cbfb63cf20",
   "metadata": {},
   "source": [
    "*I am interested in data science because I like maths and programming, and also because it's well payed.*"
   ]
  },
  {
   "cell_type": "markdown",
   "id": "2e898cff-1c91-4984-862c-d8679d2c2af2",
   "metadata": {},
   "source": [
    "### The code in cell 5 prints out a message."
   ]
  },
  {
   "cell_type": "code",
   "execution_count": 2,
   "id": "b6cd9de4-3279-4954-a98e-ff65401117b7",
   "metadata": {},
   "outputs": [
    {
     "name": "stdout",
     "output_type": "stream",
     "text": [
      "Explanation of this code is in the cell above\n"
     ]
    }
   ],
   "source": [
    "print(\"Explanation of this code is in the cell above\")"
   ]
  },
  {
   "cell_type": "markdown",
   "id": "5528fd59-9716-42ce-af33-c99f19b42553",
   "metadata": {},
   "source": [
    "This cell contains:\n",
    "\n",
    "* A bulleted list\n",
    "* An image\n",
    "* A table\n",
    "\n",
    "I like this image: \n",
    "\n",
    "![download](https://user-images.githubusercontent.com/115157910/195080427-f7f4160d-9c9c-4a41-b8bf-0ca6af37bf12.png)\n",
    "\n",
    "\n",
    "|Finally|A|Table|\n",
    "|-------|-|-----|\n",
    "|With|three|rows|\n",
    "|And|three|columns|\n"
   ]
  }
 ],
 "metadata": {
  "kernelspec": {
   "display_name": "Python",
   "language": "python",
   "name": "conda-env-python-py"
  },
  "language_info": {
   "codemirror_mode": {
    "name": "ipython",
    "version": 3
   },
   "file_extension": ".py",
   "mimetype": "text/x-python",
   "name": "python",
   "nbconvert_exporter": "python",
   "pygments_lexer": "ipython3",
   "version": "3.7.12"
  }
 },
 "nbformat": 4,
 "nbformat_minor": 5
}
